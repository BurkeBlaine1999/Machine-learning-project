{
 "cells": [
  {
   "cell_type": "markdown",
   "id": "d4443589",
   "metadata": {},
   "source": [
    "# Data Mining and Machine Learning Assignment\n",
    "\n",
    "## K-nearest neighbour\n",
    "\n",
    "## A00304954\n",
    "\n",
    "### My goal in this notebook is to use kNN in order to predict the likely hood that an individual is a smoker, based off of other features in the dataset"
   ]
  },
  {
   "cell_type": "code",
   "execution_count": 162,
   "id": "483ced09",
   "metadata": {},
   "outputs": [],
   "source": [
    "import numpy as np\n",
    "import pandas as pd\n",
    "from sklearn.neighbors import KNeighborsClassifier\n",
    "from sklearn.model_selection import train_test_split\n",
    "from sklearn.metrics import confusion_matrix\n",
    "from sklearn.model_selection import cross_val_score\n",
    "from sklearn.preprocessing import MinMaxScaler\n",
    "from sklearn.preprocessing import StandardScaler\n",
    "\n",
    "df = pd.read_csv('data/insurance.csv')"
   ]
  },
  {
   "cell_type": "code",
   "execution_count": 163,
   "id": "860f594c",
   "metadata": {},
   "outputs": [
    {
     "name": "stdout",
     "output_type": "stream",
     "text": [
      "      age     sex     bmi  children     region      charges\n",
      "0      19  female  27.900         0  southwest  16884.92400\n",
      "1      18    male  33.770         1  southeast   1725.55230\n",
      "2      28    male  33.000         3  southeast   4449.46200\n",
      "3      33    male  22.705         0  northwest  21984.47061\n",
      "4      32    male  28.880         0  northwest   3866.85520\n",
      "...   ...     ...     ...       ...        ...          ...\n",
      "1333   50    male  30.970         3  northwest  10600.54830\n",
      "1334   18  female  31.920         0  northeast   2205.98080\n",
      "1335   18  female  36.850         0  southeast   1629.83350\n",
      "1336   21  female  25.800         0  southwest   2007.94500\n",
      "1337   61  female  29.070         0  northwest  29141.36030\n",
      "\n",
      "[1338 rows x 6 columns]\n",
      "0       yes\n",
      "1        no\n",
      "2        no\n",
      "3        no\n",
      "4        no\n",
      "       ... \n",
      "1333     no\n",
      "1334     no\n",
      "1335     no\n",
      "1336     no\n",
      "1337    yes\n",
      "Name: smoker, Length: 1338, dtype: object\n"
     ]
    }
   ],
   "source": [
    "X = df.drop(['smoker'], axis='columns')\n",
    "y = df['smoker']\n",
    "\n",
    "print(X)\n",
    "print(y)"
   ]
  },
  {
   "cell_type": "code",
   "execution_count": 164,
   "id": "6f69d9a2",
   "metadata": {},
   "outputs": [],
   "source": [
    "#Convert string to Binary\n",
    "\n",
    "X['sex'] = X['sex'].replace(['female', 'male'], [0, 1])\n",
    "X['region'] = X['region'].replace(['northeast', 'northwest','southeast', 'southwest'], [0, 1, 2, 3])"
   ]
  },
  {
   "cell_type": "code",
   "execution_count": 165,
   "id": "553193a3",
   "metadata": {},
   "outputs": [],
   "source": [
    "def nullPredictor(X):\n",
    "    return ['no' for X_val in X]\n",
    "\n",
    "# Null model for regression is the avg of the target.\n",
    "# As long as model is better than the null value it's good."
   ]
  },
  {
   "cell_type": "code",
   "execution_count": 166,
   "id": "27da5b75",
   "metadata": {},
   "outputs": [
    {
     "name": "stdout",
     "output_type": "stream",
     "text": [
      "Test Accuracy 0.9401869158878504\n"
     ]
    }
   ],
   "source": [
    "X_train, X_test, y_train, y_test = train_test_split(X, y, test_size=0.2, random_state=5, stratify=y)\n",
    "\n",
    "clf = KNeighborsClassifier()\n",
    "clf.fit(X_train, y_train)\n",
    "print('Test Accuracy', clf.score(X_train, y_train))"
   ]
  },
  {
   "cell_type": "code",
   "execution_count": 167,
   "id": "132be6ed",
   "metadata": {},
   "outputs": [
    {
     "name": "stdout",
     "output_type": "stream",
     "text": [
      "Null Accuracy:  0.780373831775701\n"
     ]
    }
   ],
   "source": [
    "y_null_hat = nullPredictor(y_train)\n",
    "\n",
    "print(\"Null Accuracy: \",clf.score(X_train, y_null_hat))"
   ]
  },
  {
   "cell_type": "code",
   "execution_count": 168,
   "id": "4ae1ab50",
   "metadata": {},
   "outputs": [
    {
     "name": "stdout",
     "output_type": "stream",
     "text": [
      "True negatives: 203 , False Positives: 10 , False Negatives: 7 , True Positives: 48\n",
      "Confusion Matrix accuracy 0.9365671641791045\n"
     ]
    }
   ],
   "source": [
    "y_hat = clf.predict(X_test)\n",
    "cm = confusion_matrix(y_test, y_hat)\n",
    "\n",
    "tn, fp, fn, tp = cm.ravel()\n",
    "\n",
    "print(\"True negatives:\", tn, \", False Positives:\", fp, \", False Negatives:\", fn, \", True Positives:\", tp)\n",
    "print(\"Confusion Matrix accuracy\",(tn + tp) / (tn+fp+fn+tp))"
   ]
  },
  {
   "cell_type": "code",
   "execution_count": 174,
   "id": "a00ca362",
   "metadata": {},
   "outputs": [
    {
     "name": "stdout",
     "output_type": "stream",
     "text": [
      "Validation accuracy with MinMaxScaler 0.9149532710280374\n"
     ]
    }
   ],
   "source": [
    "# Evaluate min max scaler\n",
    "scaler = MinMaxScaler()\n",
    "\n",
    "scaler.fit(X_train)\n",
    "X_train_scaled = scaler.transform(X_train)\n",
    "\n",
    "clf = KNeighborsClassifier()\n",
    "\n",
    "scores = cross_val_score(clf, X_train_scaled, y_train, cv=5)\n",
    "print('Validation accuracy with MinMaxScaler', scores.mean())"
   ]
  },
  {
   "cell_type": "code",
   "execution_count": 175,
   "id": "47dfd07a",
   "metadata": {},
   "outputs": [
    {
     "name": "stdout",
     "output_type": "stream",
     "text": [
      "Validation accuracy with StandardScaler data 0.9383177570093458\n"
     ]
    }
   ],
   "source": [
    "# Evaluate standard scaler\n",
    "scaler = StandardScaler()\n",
    "\n",
    "scaler.fit(X_train)\n",
    "X_train_scaled = scaler.transform(X_train)\n",
    "\n",
    "clf = KNeighborsClassifier()\n",
    "\n",
    "scores = cross_val_score(clf, X_train_scaled, y_train, cv=5)\n",
    "print('Validation accuracy with StandardScaler data', scores.mean())"
   ]
  },
  {
   "cell_type": "code",
   "execution_count": 176,
   "id": "293f13f9",
   "metadata": {},
   "outputs": [
    {
     "name": "stdout",
     "output_type": "stream",
     "text": [
      "Test Accuracy 0.9552238805970149\n"
     ]
    }
   ],
   "source": [
    "# Finally estimate the test accuracy\n",
    "scaler = StandardScaler()\n",
    "\n",
    "scaler.fit(X_train)\n",
    "X_train_scaled = scaler.transform(X_train)\n",
    "X_test_scaled = scaler.transform(X_test)\n",
    "\n",
    "clf = KNeighborsClassifier()\n",
    "clf.fit(X_train_scaled, y_train)\n",
    "print('Test Accuracy', clf.score(X_test_scaled, y_test))"
   ]
  }
 ],
 "metadata": {
  "kernelspec": {
   "display_name": "Python 3 (ipykernel)",
   "language": "python",
   "name": "python3"
  },
  "language_info": {
   "codemirror_mode": {
    "name": "ipython",
    "version": 3
   },
   "file_extension": ".py",
   "mimetype": "text/x-python",
   "name": "python",
   "nbconvert_exporter": "python",
   "pygments_lexer": "ipython3",
   "version": "3.9.12"
  }
 },
 "nbformat": 4,
 "nbformat_minor": 5
}
